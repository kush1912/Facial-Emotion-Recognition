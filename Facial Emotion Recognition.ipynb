{
  "nbformat": 4,
  "nbformat_minor": 0,
  "metadata": {
    "colab": {
      "name": "Rumino.ipynb",
      "version": "0.3.2",
      "provenance": [],
      "collapsed_sections": [],
      "toc_visible": true
    },
    "kernelspec": {
      "name": "python3",
      "display_name": "Python 3"
    },
    "accelerator": "GPU"
  },
  "cells": [
    {
      "cell_type": "markdown",
      "metadata": {
        "id": "wxnPzkviIIzQ",
        "colab_type": "text"
      },
      "source": [
        "# **Facial Expression Recognition**\n"
      ]
    },
    {
      "cell_type": "code",
      "metadata": {
        "id": "UlOEKj3eIWT4",
        "colab_type": "code",
        "outputId": "941b7968-bc4d-4319-a3b4-b59fd63c245b",
        "colab": {
          "base_uri": "https://localhost:8080/",
          "height": 122
        }
      },
      "source": [
        "from google.colab import drive\n",
        "drive.mount('/content/drive')"
      ],
      "execution_count": 0,
      "outputs": [
        {
          "output_type": "stream",
          "text": [
            "Go to this URL in a browser: https://accounts.google.com/o/oauth2/auth?client_id=947318989803-6bn6qk8qdgf4n4g3pfee6491hc0brc4i.apps.googleusercontent.com&redirect_uri=urn%3Aietf%3Awg%3Aoauth%3A2.0%3Aoob&scope=email%20https%3A%2F%2Fwww.googleapis.com%2Fauth%2Fdocs.test%20https%3A%2F%2Fwww.googleapis.com%2Fauth%2Fdrive%20https%3A%2F%2Fwww.googleapis.com%2Fauth%2Fdrive.photos.readonly%20https%3A%2F%2Fwww.googleapis.com%2Fauth%2Fpeopleapi.readonly&response_type=code\n",
            "\n",
            "Enter your authorization code:\n",
            "··········\n",
            "Mounted at /content/drive\n"
          ],
          "name": "stdout"
        }
      ]
    },
    {
      "cell_type": "code",
      "metadata": {
        "id": "jX_miTwRIZnZ",
        "colab_type": "code",
        "outputId": "3dead86b-9fde-4279-9d51-cfff97a18a88",
        "colab": {
          "base_uri": "https://localhost:8080/",
          "height": 187
        }
      },
      "source": [
        "!ls \"/content/drive/My Drive\""
      ],
      "execution_count": 0,
      "outputs": [
        {
          "output_type": "stream",
          "text": [
            "' 6 emotion NN .ipynb'\n",
            "'CNN_Dog_Cat classification.ipynb'\n",
            "'Colab Notebooks'\n",
            "'minoreven synopsis.docx'\n",
            "'NN using VGG16 three emotions.ipynb'\n",
            "'Object recognition Somil.ipynb'\n",
            "'Our Own NN 6 emotion.ipynb'\n",
            " Testing.csv\n",
            " Train.csv\n",
            "'ZS Campus Beats Case Challenge - Confidentiality Form (002).gdoc'\n"
          ],
          "name": "stdout"
        }
      ]
    },
    {
      "cell_type": "code",
      "metadata": {
        "id": "giXqJVQDIcnD",
        "colab_type": "code",
        "colab": {}
      },
      "source": [
        "#Read data\n",
        "import pandas as pd\n",
        "train = pd.read_csv('/content/drive/My Drive/Train.csv')"
      ],
      "execution_count": 0,
      "outputs": []
    },
    {
      "cell_type": "code",
      "metadata": {
        "id": "z2CJ3gp2IpWO",
        "colab_type": "code",
        "outputId": "eb0b094a-771d-42c0-bbe1-fe918bfe8cd2",
        "colab": {
          "base_uri": "https://localhost:8080/",
          "height": 295
        }
      },
      "source": [
        "#Displaying total counts of different labels\n",
        "import matplotlib.pyplot as plt\n",
        "train.emotion.value_counts().plot(kind='bar')\n",
        "plt.title(\"Distribution of emotions,(0=Angry, 1=Disgust, 2=Fear, 3=Happy, 4=Sad, 5=Surprised, 6=Neutral)\")"
      ],
      "execution_count": 0,
      "outputs": [
        {
          "output_type": "execute_result",
          "data": {
            "text/plain": [
              "Text(0.5, 1.0, 'Distribution of emotions,(0=Angry, 1=Disgust, 2=Fear, 3=Happy, 4=Sad, 5=Surprised, 6=Neutral)')"
            ]
          },
          "metadata": {
            "tags": []
          },
          "execution_count": 4
        },
        {
          "output_type": "display_data",
          "data": {
            "image/png": "[encoded data removed]",
            "text/plain": [
              "<Figure size 432x288 with 1 Axes>"
            ]
          },
          "metadata": {
            "tags": []
          }
        }
      ]
    },
    {
      "cell_type": "markdown",
      "metadata": {
        "id": "RQruaWaAIsxQ",
        "colab_type": "text"
      },
      "source": [
        "As we can see we have unbalanced data as every associated emotion has a different class. So we first need to balance the dataset with equal training data per class."
      ]
    },
    {
      "cell_type": "code",
      "metadata": {
        "id": "DX8ec7BtItq5",
        "colab_type": "code",
        "outputId": "ef4635d8-4db2-465a-d127-1d1ffa85934e",
        "colab": {
          "base_uri": "https://localhost:8080/",
          "height": 295
        }
      },
      "source": [
        "#There are very few samples of 'Disgust' so we will merge it with 'Angry'\n",
        "train['emotion'] = train['emotion'].map( {0:0, 1:0, 2:1, 3:2, 4:3, 5:4, 6:5} ).astype(int)\n",
        "train.emotion.value_counts().plot(kind='bar')\n",
        "plt.title(\"Distribution of emotions,(0=Angry,1=Fear, 2=Happy, 3 = Sad, 4=Surprised, 5=Neutral)\")\n"
      ],
      "execution_count": 0,
      "outputs": [
        {
          "output_type": "execute_result",
          "data": {
            "text/plain": [
              "Text(0.5, 1.0, 'Distribution of emotions,(0=Angry,1=Fear, 2=Happy, 3 = Sad, 4=Surprised, 5=Neutral)')"
            ]
          },
          "metadata": {
            "tags": []
          },
          "execution_count": 5
        },
        {
          "output_type": "display_data",
          "data": {
            "image/png": "[encoded data removed]",
            "text/plain": [
              "<Figure size 432x288 with 1 Axes>"
            ]
          },
          "metadata": {
            "tags": []
          }
        }
      ]
    },
    {
      "cell_type": "code",
      "metadata": {
        "id": "l0Ro9UyAIxUQ",
        "colab_type": "code",
        "outputId": "f8699063-5bf0-40e0-b72e-88ee0f310c15",
        "colab": {
          "base_uri": "https://localhost:8080/",
          "height": 295
        }
      },
      "source": [
        "\"Making copies of images to balance the class which prevents overfitting\"\n",
        "from sklearn.utils import shuffle\n",
        "\n",
        "#As there are higher number of 'Happy' images, making copies of other images\n",
        "df_copy = train[train.emotion != 2]\n",
        "df_copy = df_copy[:int(0.6*len(df_copy.index))]\n",
        "len(df_copy.index)\n",
        "train_balanced = shuffle(pd.concat([train,df_copy]))\n",
        "\n",
        "train_balanced.emotion.value_counts().plot(kind='bar')\n",
        "plt.title(\"Distribution of emotions,(0=Angry,1=Fear, 2=Happy, 3 = Sad, 4=Surprise, 5=Neutral)\")\n",
        "\n"
      ],
      "execution_count": 0,
      "outputs": [
        {
          "output_type": "execute_result",
          "data": {
            "text/plain": [
              "Text(0.5, 1.0, 'Distribution of emotions,(0=Angry,1=Fear, 2=Happy, 3 = Sad, 4=Surprise, 5=Neutral)')"
            ]
          },
          "metadata": {
            "tags": []
          },
          "execution_count": 6
        },
        {
          "output_type": "display_data",
          "data": {
            "image/png": "[encoded data removed]",
            "text/plain": [
              "<Figure size 432x288 with 1 Axes>"
            ]
          },
          "metadata": {
            "tags": []
          }
        }
      ]
    },
    {
      "cell_type": "code",
      "metadata": {
        "id": "-2Mhp0XCI7bM",
        "colab_type": "code",
        "colab": {}
      },
      "source": [
        "#downloading the balanced classes csv file.\n",
        "from google.colab import files\n",
        "\n",
        "train_balanced.to_csv('balaclass.csv')\n",
        "#files.download('balaclass.csv')"
      ],
      "execution_count": 0,
      "outputs": []
    },
    {
      "cell_type": "code",
      "metadata": {
        "id": "S-90lYWUI-bA",
        "colab_type": "code",
        "colab": {}
      },
      "source": [
        "#Preparing test data\n",
        "test = pd.read_csv('/content/drive/My Drive/Testing.csv')\n",
        "test['emotion'] = test['emotion'].map( {0:0, 1:0, 2:1, 3:2, 4:3, 5:4, 6:5} ).astype(int)"
      ],
      "execution_count": 0,
      "outputs": []
    },
    {
      "cell_type": "markdown",
      "metadata": {
        "id": "a7Tg2o8bJGRi",
        "colab_type": "text"
      },
      "source": [
        "### Till this step we were using the csv file format but then sir said to take up input to the CNN as images using flow_from_directory,so we had to convert the balanced training dataset to images and then send them as input to our CNN.Since our balanced training now has nearby equal images of all the classes so our neural network now wont overfit."
      ]
    },
    {
      "cell_type": "markdown",
      "metadata": {
        "id": "5Hy2NP7xJNmT",
        "colab_type": "text"
      },
      "source": [
        "# **CNN architecture for classification**"
      ]
    },
    {
      "cell_type": "code",
      "metadata": {
        "id": "uHzFQDfrJOHv",
        "colab_type": "code",
        "outputId": "9c418657-85ae-420d-b744-97304aa2c4cb",
        "colab": {
          "base_uri": "https://localhost:8080/",
          "height": 33
        }
      },
      "source": [
        "from keras.models import Sequential\n",
        "\n",
        "from keras.layers import Convolution2D\n",
        "\n",
        "from keras.layers import MaxPooling2D,AveragePooling2D\n",
        "\n",
        "from keras.layers import Flatten\n",
        "\n",
        "from keras.layers import Dense\n",
        "\n",
        "from keras.layers import Activation\n",
        "\n",
        "from keras.layers import Dropout\n",
        "\n",
        "from keras.optimizers import SGD\n",
        "\n",
        "from keras.layers.normalization import BatchNormalization"
      ],
      "execution_count": 1,
      "outputs": [
        {
          "output_type": "stream",
          "text": [
            "Using TensorFlow backend.\n"
          ],
          "name": "stderr"
        }
      ]
    },
    {
      "cell_type": "code",
      "metadata": {
        "id": "C7bbaLYwJZFd",
        "colab_type": "code",
        "outputId": "8f494cdf-6d19-4753-ba25-22a36640b32d",
        "colab": {
          "base_uri": "https://localhost:8080/",
          "height": 232
        }
      },
      "source": [
        "# Initialising the CNN\n",
        "model = Sequential()\n",
        "\n",
        "# 1 - Convolution\n",
        "model.add(Convolution2D(64,(3,3), border_mode='same', input_shape=(48, 48, 1)))\n",
        "model.add(BatchNormalization())\n",
        "model.add(Activation('relu'))\n",
        "model.add(MaxPooling2D(pool_size=(2, 2)))\n",
        "model.add(Dropout(0.25))\n",
        "\n",
        "    # 2nd Convolution layer\n",
        "model.add(Convolution2D(128,(5,5), border_mode='same'))\n",
        "model.add(BatchNormalization())\n",
        "model.add(Activation('relu'))\n",
        "model.add(MaxPooling2D(pool_size=(2, 2)))\n",
        "model.add(Dropout(0.25))\n",
        "\n",
        "    # 3rd Convolution layer \n",
        "model.add(Convolution2D(512,(3,3), border_mode='same'))\n",
        "model.add(BatchNormalization())\n",
        "model.add(Activation('relu'))\n",
        "model.add(MaxPooling2D(pool_size=(2, 2)))\n",
        "model.add(Dropout(0.25))\n",
        "\n",
        "    # 4th Convolution layer\n",
        "model.add(Convolution2D(512,(3,3), border_mode='same'))\n",
        "model.add(BatchNormalization())\n",
        "model.add(Activation('relu'))\n",
        "model.add(MaxPooling2D(pool_size=(2, 2)))\n",
        "model.add(Dropout(0.25))\n",
        "\n",
        "\n",
        "    # Flattening\n",
        "model.add(Flatten())\n",
        "\n",
        "    # Fully connected layer 1st layer\n",
        "model.add(Dense(256))\n",
        "model.add(BatchNormalization())\n",
        "model.add(Activation('relu'))\n",
        "model.add(Dropout(0.25))\n",
        "\n",
        "\n",
        "    # Fully connected layer 2nd layer\n",
        "model.add(Dense(512))\n",
        "model.add(BatchNormalization())\n",
        "model.add(Activation('relu'))\n",
        "model.add(Dropout(0.25))\n",
        "\n",
        "model.add(Dense(6, activation='sigmoid'))\n",
        "\n",
        "model.compile(optimizer='adam', loss='categorical_crossentropy', metrics=['accuracy'])"
      ],
      "execution_count": 2,
      "outputs": [
        {
          "output_type": "stream",
          "text": [
            "WARNING:tensorflow:From /usr/local/lib/python3.6/dist-packages/tensorflow/python/framework/op_def_library.py:263: colocate_with (from tensorflow.python.framework.ops) is deprecated and will be removed in a future version.\n",
            "Instructions for updating:\n",
            "Colocations handled automatically by placer.\n"
          ],
          "name": "stdout"
        },
        {
          "output_type": "stream",
          "text": [
            "/usr/local/lib/python3.6/dist-packages/ipykernel_launcher.py:4: UserWarning: Update your `Conv2D` call to the Keras 2 API: `Conv2D(64, (3, 3), input_shape=(48, 48, 1..., padding=\"same\")`\n",
            "  after removing the cwd from sys.path.\n"
          ],
          "name": "stderr"
        },
        {
          "output_type": "stream",
          "text": [
            "WARNING:tensorflow:From /usr/local/lib/python3.6/dist-packages/keras/backend/tensorflow_backend.py:3445: calling dropout (from tensorflow.python.ops.nn_ops) with keep_prob is deprecated and will be removed in a future version.\n",
            "Instructions for updating:\n",
            "Please use `rate` instead of `keep_prob`. Rate should be set to `rate = 1 - keep_prob`.\n"
          ],
          "name": "stdout"
        },
        {
          "output_type": "stream",
          "text": [
            "/usr/local/lib/python3.6/dist-packages/ipykernel_launcher.py:11: UserWarning: Update your `Conv2D` call to the Keras 2 API: `Conv2D(128, (5, 5), padding=\"same\")`\n",
            "  # This is added back by InteractiveShellApp.init_path()\n",
            "/usr/local/lib/python3.6/dist-packages/ipykernel_launcher.py:18: UserWarning: Update your `Conv2D` call to the Keras 2 API: `Conv2D(512, (3, 3), padding=\"same\")`\n",
            "/usr/local/lib/python3.6/dist-packages/ipykernel_launcher.py:25: UserWarning: Update your `Conv2D` call to the Keras 2 API: `Conv2D(512, (3, 3), padding=\"same\")`\n"
          ],
          "name": "stderr"
        }
      ]
    },
    {
      "cell_type": "code",
      "metadata": {
        "id": "15UbyThiJeRA",
        "colab_type": "code",
        "outputId": "e5323594-14de-44a0-db2d-ecc9b0790c72",
        "colab": {
          "base_uri": "https://localhost:8080/",
          "height": 33
        }
      },
      "source": [
        "from zipfile import ZipFile\n",
        "file_name='Testing Dataset.zip'\n",
        "\n",
        "with ZipFile(file_name,'r') as zip:\n",
        "    zip.extractall()\n",
        "    print('Done')"
      ],
      "execution_count": 3,
      "outputs": [
        {
          "output_type": "stream",
          "text": [
            "Done\n"
          ],
          "name": "stdout"
        }
      ]
    },
    {
      "cell_type": "code",
      "metadata": {
        "id": "IU-10M5SJfK8",
        "colab_type": "code",
        "outputId": "47d80bcd-bfcf-4252-cd09-266c26da5458",
        "colab": {
          "base_uri": "https://localhost:8080/",
          "height": 33
        }
      },
      "source": [
        "from zipfile import ZipFile\n",
        "file_name='Balanced Training Dataset.zip'\n",
        "\n",
        "with ZipFile(file_name,'r') as zip:\n",
        "    zip.extractall()\n",
        "    print('Done')"
      ],
      "execution_count": 4,
      "outputs": [
        {
          "output_type": "stream",
          "text": [
            "Done\n"
          ],
          "name": "stdout"
        }
      ]
    },
    {
      "cell_type": "code",
      "metadata": {
        "id": "gvMqfGe3JhiL",
        "colab_type": "code",
        "outputId": "b11bfff2-4188-428f-f610-e7f758f3955e",
        "colab": {
          "base_uri": "https://localhost:8080/",
          "height": 4457
        }
      },
      "source": [
        "from keras.callbacks import ModelCheckpoint\n",
        "from keras.preprocessing.image import ImageDataGenerator\n",
        "\n",
        "train_datagen =  ImageDataGenerator(\n",
        "        rescale=1./255,\n",
        "        shear_range=0.2,\n",
        "        zoom_range=0.2,\n",
        "        horizontal_flip=True)\n",
        "\n",
        "test_datagen =  ImageDataGenerator(rescale=1./255)\n",
        "\n",
        "training_set = train_datagen.flow_from_directory('Balanced Training Dataset/Training',\n",
        "                                                 target_size=(48, 48),\n",
        "                                                 batch_size=128,\n",
        "                                                 class_mode='categorical',color_mode='grayscale')\n",
        "\n",
        "test_set = test_datagen.flow_from_directory('Balanced Training Dataset/PublicTest',\n",
        "                                             target_size=(48, 48),\n",
        "                                             batch_size=128,\n",
        "                                             class_mode='categorical',color_mode='grayscale')\n",
        "\n",
        "#Save partly trained model# save best weights\n",
        "checkpointer = ModelCheckpoint(filepath='6_emo_50_epo.h5', verbose=1, save_best_only=True)\n",
        "\n",
        "model.fit_generator(training_set,\n",
        "                         steps_per_epoch=41604/100,\n",
        "                         epochs=50,\n",
        "                         validation_data=test_set,callbacks=[checkpointer],\n",
        "                         validation_steps=3588/100,verbose=1)\n",
        "\n",
        "model.summary()"
      ],
      "execution_count": 5,
      "outputs": [
        {
          "output_type": "stream",
          "text": [
            "Found 41604 images belonging to 6 classes.\n",
            "Found 3588 images belonging to 6 classes.\n",
            "WARNING:tensorflow:From /usr/local/lib/python3.6/dist-packages/tensorflow/python/ops/math_ops.py:3066: to_int32 (from tensorflow.python.ops.math_ops) is deprecated and will be removed in a future version.\n",
            "Instructions for updating:\n",
            "Use tf.cast instead.\n",
            "Epoch 1/50\n",
            "417/416 [==============================] - 67s 162ms/step - loss: 1.6505 - acc: 0.3103 - val_loss: 1.5150 - val_acc: 0.3704\n",
            "\n",
            "Epoch 00001: val_loss improved from inf to 1.51503, saving model to 6_emo_50_epo.h5\n",
            "Epoch 2/50\n",
            "417/416 [==============================] - 61s 145ms/step - loss: 1.3833 - acc: 0.4493 - val_loss: 1.3203 - val_acc: 0.4944\n",
            "\n",
            "Epoch 00002: val_loss improved from 1.51503 to 1.32028, saving model to 6_emo_50_epo.h5\n",
            "Epoch 3/50\n",
            "417/416 [==============================] - 63s 150ms/step - loss: 1.2661 - acc: 0.5030 - val_loss: 1.1675 - val_acc: 0.5549\n",
            "\n",
            "Epoch 00003: val_loss improved from 1.32028 to 1.16747, saving model to 6_emo_50_epo.h5\n",
            "Epoch 4/50\n",
            "417/416 [==============================] - 62s 148ms/step - loss: 1.2032 - acc: 0.5275 - val_loss: 1.1724 - val_acc: 0.5459\n",
            "\n",
            "Epoch 00004: val_loss did not improve from 1.16747\n",
            "Epoch 5/50\n",
            "417/416 [==============================] - 61s 146ms/step - loss: 1.1461 - acc: 0.5521 - val_loss: 1.1564 - val_acc: 0.5544\n",
            "\n",
            "Epoch 00005: val_loss improved from 1.16747 to 1.15638, saving model to 6_emo_50_epo.h5\n",
            "Epoch 6/50\n",
            "417/416 [==============================] - 60s 144ms/step - loss: 1.1110 - acc: 0.5657 - val_loss: 1.1387 - val_acc: 0.5627\n",
            "\n",
            "Epoch 00006: val_loss improved from 1.15638 to 1.13868, saving model to 6_emo_50_epo.h5\n",
            "Epoch 7/50\n",
            "417/416 [==============================] - 61s 147ms/step - loss: 1.0833 - acc: 0.5770 - val_loss: 1.0891 - val_acc: 0.5772\n",
            "\n",
            "Epoch 00007: val_loss improved from 1.13868 to 1.08910, saving model to 6_emo_50_epo.h5\n",
            "Epoch 8/50\n",
            "417/416 [==============================] - 62s 149ms/step - loss: 1.0557 - acc: 0.5914 - val_loss: 1.0684 - val_acc: 0.5943\n",
            "\n",
            "Epoch 00008: val_loss improved from 1.08910 to 1.06838, saving model to 6_emo_50_epo.h5\n",
            "Epoch 9/50\n",
            "417/416 [==============================] - 61s 147ms/step - loss: 1.0279 - acc: 0.6017 - val_loss: 1.2259 - val_acc: 0.5241\n",
            "\n",
            "Epoch 00009: val_loss did not improve from 1.06838\n",
            "Epoch 10/50\n",
            "417/416 [==============================] - 60s 144ms/step - loss: 1.0006 - acc: 0.6114 - val_loss: 1.1881 - val_acc: 0.5522\n",
            "\n",
            "Epoch 00010: val_loss did not improve from 1.06838\n",
            "Epoch 11/50\n",
            "417/416 [==============================] - 61s 146ms/step - loss: 0.9847 - acc: 0.6207 - val_loss: 1.0690 - val_acc: 0.5955\n",
            "\n",
            "Epoch 00011: val_loss did not improve from 1.06838\n",
            "Epoch 12/50\n",
            "417/416 [==============================] - 61s 147ms/step - loss: 0.9445 - acc: 0.6360 - val_loss: 1.0255 - val_acc: 0.6111\n",
            "\n",
            "Epoch 00012: val_loss improved from 1.06838 to 1.02553, saving model to 6_emo_50_epo.h5\n",
            "Epoch 13/50\n",
            "417/416 [==============================] - 63s 150ms/step - loss: 0.9234 - acc: 0.6462 - val_loss: 1.0255 - val_acc: 0.6124\n",
            "\n",
            "Epoch 00013: val_loss improved from 1.02553 to 1.02546, saving model to 6_emo_50_epo.h5\n",
            "Epoch 14/50\n",
            "417/416 [==============================] - 61s 145ms/step - loss: 0.9118 - acc: 0.6493 - val_loss: 1.0293 - val_acc: 0.6244\n",
            "\n",
            "Epoch 00014: val_loss did not improve from 1.02546\n",
            "Epoch 15/50\n",
            "417/416 [==============================] - 61s 146ms/step - loss: 0.9064 - acc: 0.6515 - val_loss: 1.0130 - val_acc: 0.6222\n",
            "\n",
            "Epoch 00015: val_loss improved from 1.02546 to 1.01299, saving model to 6_emo_50_epo.h5\n",
            "Epoch 16/50\n",
            "417/416 [==============================] - 60s 144ms/step - loss: 0.8917 - acc: 0.6610 - val_loss: 1.1775 - val_acc: 0.5660\n",
            "\n",
            "Epoch 00016: val_loss did not improve from 1.01299\n",
            "Epoch 17/50\n",
            "417/416 [==============================] - 61s 146ms/step - loss: 0.8689 - acc: 0.6681 - val_loss: 1.0447 - val_acc: 0.6085\n",
            "\n",
            "Epoch 00017: val_loss did not improve from 1.01299\n",
            "Epoch 18/50\n",
            "417/416 [==============================] - 61s 146ms/step - loss: 0.8507 - acc: 0.6771 - val_loss: 1.3676 - val_acc: 0.5203\n",
            "\n",
            "Epoch 00018: val_loss did not improve from 1.01299\n",
            "Epoch 19/50\n",
            "417/416 [==============================] - 61s 147ms/step - loss: 0.8245 - acc: 0.6855 - val_loss: 1.0967 - val_acc: 0.6102\n",
            "\n",
            "Epoch 00019: val_loss did not improve from 1.01299\n",
            "Epoch 20/50\n",
            "417/416 [==============================] - 61s 146ms/step - loss: 0.7961 - acc: 0.6981 - val_loss: 1.1001 - val_acc: 0.6073\n",
            "\n",
            "Epoch 00020: val_loss did not improve from 1.01299\n",
            "Epoch 21/50\n",
            "417/416 [==============================] - 61s 146ms/step - loss: 0.7932 - acc: 0.7002 - val_loss: 0.9867 - val_acc: 0.6491\n",
            "\n",
            "Epoch 00021: val_loss improved from 1.01299 to 0.98665, saving model to 6_emo_50_epo.h5\n",
            "Epoch 22/50\n",
            "417/416 [==============================] - 60s 144ms/step - loss: 0.7658 - acc: 0.7100 - val_loss: 1.0389 - val_acc: 0.6311\n",
            "\n",
            "Epoch 00022: val_loss did not improve from 0.98665\n",
            "Epoch 23/50\n",
            "417/416 [==============================] - 62s 150ms/step - loss: 0.7504 - acc: 0.7147 - val_loss: 0.9906 - val_acc: 0.6514\n",
            "\n",
            "Epoch 00023: val_loss did not improve from 0.98665\n",
            "Epoch 24/50\n",
            "417/416 [==============================] - 61s 147ms/step - loss: 0.7312 - acc: 0.7245 - val_loss: 1.0201 - val_acc: 0.6343\n",
            "\n",
            "Epoch 00024: val_loss did not improve from 0.98665\n",
            "Epoch 25/50\n",
            "417/416 [==============================] - 60s 144ms/step - loss: 0.7100 - acc: 0.7317 - val_loss: 0.9879 - val_acc: 0.6642\n",
            "\n",
            "Epoch 00025: val_loss did not improve from 0.98665\n",
            "Epoch 26/50\n",
            "417/416 [==============================] - 59s 142ms/step - loss: 0.7298 - acc: 0.7269 - val_loss: 1.1285 - val_acc: 0.6117\n",
            "\n",
            "Epoch 00026: val_loss did not improve from 0.98665\n",
            "Epoch 27/50\n",
            "417/416 [==============================] - 60s 145ms/step - loss: 0.6904 - acc: 0.7416 - val_loss: 1.1512 - val_acc: 0.6104\n",
            "\n",
            "Epoch 00027: val_loss did not improve from 0.98665\n",
            "Epoch 28/50\n",
            "417/416 [==============================] - 62s 148ms/step - loss: 0.6742 - acc: 0.7466 - val_loss: 1.0565 - val_acc: 0.6403\n",
            "\n",
            "Epoch 00028: val_loss did not improve from 0.98665\n",
            "Epoch 29/50\n",
            "417/416 [==============================] - 61s 146ms/step - loss: 0.6679 - acc: 0.7507 - val_loss: 1.0091 - val_acc: 0.6594\n",
            "\n",
            "Epoch 00029: val_loss did not improve from 0.98665\n",
            "Epoch 30/50\n",
            "417/416 [==============================] - 59s 142ms/step - loss: 0.6521 - acc: 0.7549 - val_loss: 1.0431 - val_acc: 0.6383\n",
            "\n",
            "Epoch 00030: val_loss did not improve from 0.98665\n",
            "Epoch 31/50\n",
            "417/416 [==============================] - 61s 145ms/step - loss: 0.6324 - acc: 0.7642 - val_loss: 1.0937 - val_acc: 0.6496\n",
            "\n",
            "Epoch 00031: val_loss did not improve from 0.98665\n",
            "Epoch 32/50\n",
            "417/416 [==============================] - 61s 146ms/step - loss: 0.6306 - acc: 0.7643 - val_loss: 0.9931 - val_acc: 0.6635\n",
            "\n",
            "Epoch 00032: val_loss did not improve from 0.98665\n",
            "Epoch 33/50\n",
            "417/416 [==============================] - 61s 146ms/step - loss: 0.6221 - acc: 0.7704 - val_loss: 1.0934 - val_acc: 0.6293\n",
            "\n",
            "Epoch 00033: val_loss did not improve from 0.98665\n",
            "Epoch 34/50\n",
            "417/416 [==============================] - 60s 144ms/step - loss: 0.6124 - acc: 0.7731 - val_loss: 1.0516 - val_acc: 0.6505\n",
            "\n",
            "Epoch 00034: val_loss did not improve from 0.98665\n",
            "Epoch 35/50\n",
            "417/416 [==============================] - 61s 146ms/step - loss: 0.6101 - acc: 0.7757 - val_loss: 1.0839 - val_acc: 0.6514\n",
            "\n",
            "Epoch 00035: val_loss did not improve from 0.98665\n",
            "Epoch 36/50\n",
            "417/416 [==============================] - 60s 145ms/step - loss: 0.5817 - acc: 0.7851 - val_loss: 1.2433 - val_acc: 0.6097\n",
            "\n",
            "Epoch 00036: val_loss did not improve from 0.98665\n",
            "Epoch 37/50\n",
            "417/416 [==============================] - 60s 145ms/step - loss: 0.5770 - acc: 0.7870 - val_loss: 1.0319 - val_acc: 0.6748\n",
            "\n",
            "Epoch 00037: val_loss did not improve from 0.98665\n",
            "Epoch 38/50\n",
            "417/416 [==============================] - 61s 146ms/step - loss: 0.5628 - acc: 0.7908 - val_loss: 1.1906 - val_acc: 0.6069\n",
            "\n",
            "Epoch 00038: val_loss did not improve from 0.98665\n",
            "Epoch 39/50\n",
            "417/416 [==============================] - 60s 145ms/step - loss: 0.5569 - acc: 0.7964 - val_loss: 1.1059 - val_acc: 0.6572\n",
            "\n",
            "Epoch 00039: val_loss did not improve from 0.98665\n",
            "Epoch 40/50\n",
            "417/416 [==============================] - 61s 147ms/step - loss: 0.5539 - acc: 0.7950 - val_loss: 1.1075 - val_acc: 0.6483\n",
            "\n",
            "Epoch 00040: val_loss did not improve from 0.98665\n",
            "Epoch 41/50\n",
            "417/416 [==============================] - 61s 146ms/step - loss: 0.5388 - acc: 0.8017 - val_loss: 1.1670 - val_acc: 0.6340\n",
            "\n",
            "Epoch 00041: val_loss did not improve from 0.98665\n",
            "Epoch 42/50\n",
            "417/416 [==============================] - 60s 143ms/step - loss: 0.5330 - acc: 0.8032 - val_loss: 1.1762 - val_acc: 0.6427\n",
            "\n",
            "Epoch 00042: val_loss did not improve from 0.98665\n",
            "Epoch 43/50\n",
            "417/416 [==============================] - 61s 146ms/step - loss: 0.5098 - acc: 0.8127 - val_loss: 1.2699 - val_acc: 0.6079\n",
            "\n",
            "Epoch 00043: val_loss did not improve from 0.98665\n",
            "Epoch 44/50\n",
            "417/416 [==============================] - 61s 147ms/step - loss: 0.5177 - acc: 0.8081 - val_loss: 1.0735 - val_acc: 0.6595\n",
            "\n",
            "Epoch 00044: val_loss did not improve from 0.98665\n",
            "Epoch 45/50\n",
            "417/416 [==============================] - 62s 148ms/step - loss: 0.5023 - acc: 0.8164 - val_loss: 1.1395 - val_acc: 0.6503\n",
            "\n",
            "Epoch 00045: val_loss did not improve from 0.98665\n",
            "Epoch 46/50\n",
            "417/416 [==============================] - 60s 143ms/step - loss: 0.5209 - acc: 0.8096 - val_loss: 1.1392 - val_acc: 0.6594\n",
            "\n",
            "Epoch 00046: val_loss did not improve from 0.98665\n",
            "Epoch 47/50\n",
            "417/416 [==============================] - 60s 144ms/step - loss: 0.5062 - acc: 0.8154 - val_loss: 1.0948 - val_acc: 0.6684\n",
            "\n",
            "Epoch 00047: val_loss did not improve from 0.98665\n",
            "Epoch 48/50\n",
            "417/416 [==============================] - 60s 145ms/step - loss: 0.4902 - acc: 0.8226 - val_loss: 1.0261 - val_acc: 0.6809\n",
            "\n",
            "Epoch 00048: val_loss did not improve from 0.98665\n",
            "Epoch 49/50\n",
            "417/416 [==============================] - 62s 149ms/step - loss: 0.4687 - acc: 0.8301 - val_loss: 1.0934 - val_acc: 0.6748\n",
            "\n",
            "Epoch 00049: val_loss did not improve from 0.98665\n",
            "Epoch 50/50\n",
            "417/416 [==============================] - 61s 146ms/step - loss: 0.4705 - acc: 0.8283 - val_loss: 1.0680 - val_acc: 0.6778\n",
            "\n",
            "Epoch 00050: val_loss did not improve from 0.98665\n",
            "_________________________________________________________________\n",
            "Layer (type)                 Output Shape              Param #   \n",
            "=================================================================\n",
            "conv2d_1 (Conv2D)            (None, 48, 48, 64)        640       \n",
            "_________________________________________________________________\n",
            "batch_normalization_1 (Batch (None, 48, 48, 64)        256       \n",
            "_________________________________________________________________\n",
            "activation_1 (Activation)    (None, 48, 48, 64)        0         \n",
            "_________________________________________________________________\n",
            "max_pooling2d_1 (MaxPooling2 (None, 24, 24, 64)        0         \n",
            "_________________________________________________________________\n",
            "dropout_1 (Dropout)          (None, 24, 24, 64)        0         \n",
            "_________________________________________________________________\n",
            "conv2d_2 (Conv2D)            (None, 24, 24, 128)       204928    \n",
            "_________________________________________________________________\n",
            "batch_normalization_2 (Batch (None, 24, 24, 128)       512       \n",
            "_________________________________________________________________\n",
            "activation_2 (Activation)    (None, 24, 24, 128)       0         \n",
            "_________________________________________________________________\n",
            "max_pooling2d_2 (MaxPooling2 (None, 12, 12, 128)       0         \n",
            "_________________________________________________________________\n",
            "dropout_2 (Dropout)          (None, 12, 12, 128)       0         \n",
            "_________________________________________________________________\n",
            "conv2d_3 (Conv2D)            (None, 12, 12, 512)       590336    \n",
            "_________________________________________________________________\n",
            "batch_normalization_3 (Batch (None, 12, 12, 512)       2048      \n",
            "_________________________________________________________________\n",
            "activation_3 (Activation)    (None, 12, 12, 512)       0         \n",
            "_________________________________________________________________\n",
            "max_pooling2d_3 (MaxPooling2 (None, 6, 6, 512)         0         \n",
            "_________________________________________________________________\n",
            "dropout_3 (Dropout)          (None, 6, 6, 512)         0         \n",
            "_________________________________________________________________\n",
            "conv2d_4 (Conv2D)            (None, 6, 6, 512)         2359808   \n",
            "_________________________________________________________________\n",
            "batch_normalization_4 (Batch (None, 6, 6, 512)         2048      \n",
            "_________________________________________________________________\n",
            "activation_4 (Activation)    (None, 6, 6, 512)         0         \n",
            "_________________________________________________________________\n",
            "max_pooling2d_4 (MaxPooling2 (None, 3, 3, 512)         0         \n",
            "_________________________________________________________________\n",
            "dropout_4 (Dropout)          (None, 3, 3, 512)         0         \n",
            "_________________________________________________________________\n",
            "flatten_1 (Flatten)          (None, 4608)              0         \n",
            "_________________________________________________________________\n",
            "dense_1 (Dense)              (None, 256)               1179904   \n",
            "_________________________________________________________________\n",
            "batch_normalization_5 (Batch (None, 256)               1024      \n",
            "_________________________________________________________________\n",
            "activation_5 (Activation)    (None, 256)               0         \n",
            "_________________________________________________________________\n",
            "dropout_5 (Dropout)          (None, 256)               0         \n",
            "_________________________________________________________________\n",
            "dense_2 (Dense)              (None, 512)               131584    \n",
            "_________________________________________________________________\n",
            "batch_normalization_6 (Batch (None, 512)               2048      \n",
            "_________________________________________________________________\n",
            "activation_6 (Activation)    (None, 512)               0         \n",
            "_________________________________________________________________\n",
            "dropout_6 (Dropout)          (None, 512)               0         \n",
            "_________________________________________________________________\n",
            "dense_3 (Dense)              (None, 6)                 3078      \n",
            "=================================================================\n",
            "Total params: 4,478,214\n",
            "Trainable params: 4,474,246\n",
            "Non-trainable params: 3,968\n",
            "_________________________________________________________________\n"
          ],
          "name": "stdout"
        }
      ]
    },
    {
      "cell_type": "code",
      "metadata": {
        "id": "8MTazFcTLCkE",
        "colab_type": "code",
        "outputId": "50fe3a94-55da-4283-bcf7-283495ef904d",
        "colab": {
          "base_uri": "https://localhost:8080/",
          "height": 33
        }
      },
      "source": [
        "#yaha se trained model ka evaluation start hogaa\n",
        "test1_set = test_datagen.flow_from_directory('Testing Dataset/PrivateTest',\n",
        "                                             target_size=(48, 48),\n",
        "                                             batch_size=32, g\n",
        "                                             class_mode='categorical',color_mode='grayscale')"
      ],
      "execution_count": 6,
      "outputs": [
        {
          "output_type": "stream",
          "text": [
            "Found 3589 images belonging to 6 classes.\n"
          ],
          "name": "stdout"
        }
      ]
    },
    {
      "cell_type": "code",
      "metadata": {
        "id": "yEWr58_sLHKM",
        "colab_type": "code",
        "outputId": "5938cf80-b646-47b9-abce-caaf8885fea2",
        "colab": {
          "base_uri": "https://localhost:8080/",
          "height": 33
        }
      },
      "source": [
        "model.evaluate_generator(generator=test1_set,steps=32)"
      ],
      "execution_count": 7,
      "outputs": [
        {
          "output_type": "execute_result",
          "data": {
            "text/plain": [
              "[1.0429019071161747, 0.685546875]"
            ]
          },
          "metadata": {
            "tags": []
          },
          "execution_count": 7
        }
      ]
    },
    {
      "cell_type": "code",
      "metadata": {
        "id": "rvVRa5TeG67I",
        "colab_type": "code",
        "outputId": "8eb6379d-238c-495c-e596-51ef59ec1985",
        "colab": {
          "base_uri": "https://localhost:8080/",
          "height": 33
        }
      },
      "source": [
        "generator = test_datagen.flow_from_directory(\n",
        "        'Testing Dataset/PrivateTest',\n",
        "        target_size=(48, 48),\n",
        "        batch_size=1,\n",
        "        class_mode=None,  # only data, no labels\n",
        "        shuffle=False,color_mode='grayscale')  # keep data in same order as labels\n",
        "\n",
        "probabilities = model.predict_generator(generator, 3589)"
      ],
      "execution_count": 8,
      "outputs": [
        {
          "output_type": "stream",
          "text": [
            "Found 3589 images belonging to 6 classes.\n"
          ],
          "name": "stdout"
        }
      ]
    },
    {
      "cell_type": "code",
      "metadata": {
        "id": "sx67yGFEG-jS",
        "colab_type": "code",
        "outputId": "6d841001-83ff-4f5d-f271-25bd10dd5e99",
        "colab": {
          "base_uri": "https://localhost:8080/",
          "height": 228
        }
      },
      "source": [
        "probabilities"
      ],
      "execution_count": 9,
      "outputs": [
        {
          "output_type": "execute_result",
          "data": {
            "text/plain": [
              "array([[1.7359856e-01, 5.4890513e-03, 1.0132790e-06, 9.6939981e-02,\n",
              "        1.3464959e-05, 4.6883933e-03],\n",
              "       [2.8836709e-01, 4.2295039e-02, 2.6065111e-04, 7.5608492e-05,\n",
              "        3.0672739e-03, 4.5616674e-05],\n",
              "       [7.8909069e-02, 4.0961263e-01, 6.2733889e-05, 1.3887882e-05,\n",
              "        2.0575999e-05, 7.9461647e-04],\n",
              "       ...,\n",
              "       [8.6563826e-04, 1.9380450e-04, 5.3407705e-01, 1.4951825e-04,\n",
              "        8.4358099e-04, 1.6801960e-03],\n",
              "       [1.4719367e-03, 1.2449446e-01, 1.4193952e-03, 1.9228458e-02,\n",
              "        4.1064700e-06, 1.9520947e-01],\n",
              "       [1.1411309e-04, 2.4023652e-04, 6.2763691e-05, 8.9296699e-04,\n",
              "        1.0493728e-06, 9.7333127e-01]], dtype=float32)"
            ]
          },
          "metadata": {
            "tags": []
          },
          "execution_count": 9
        }
      ]
    },
    {
      "cell_type": "code",
      "metadata": {
        "id": "rKGXmO_FHAy9",
        "colab_type": "code",
        "colab": {}
      },
      "source": [
        "pba = [i * 10 for i in probabilities]"
      ],
      "execution_count": 0,
      "outputs": []
    },
    {
      "cell_type": "code",
      "metadata": {
        "id": "0M_rIlCCHD8k",
        "colab_type": "code",
        "outputId": "05a9ea4a-6e45-44b6-ccaf-17247a98db3a",
        "colab": {
          "base_uri": "https://localhost:8080/",
          "height": 33
        }
      },
      "source": [
        "type(pba)"
      ],
      "execution_count": 11,
      "outputs": [
        {
          "output_type": "execute_result",
          "data": {
            "text/plain": [
              "list"
            ]
          },
          "metadata": {
            "tags": []
          },
          "execution_count": 11
        }
      ]
    },
    {
      "cell_type": "code",
      "metadata": {
        "id": "Qa9KJXSDHGlK",
        "colab_type": "code",
        "outputId": "28faee8d-dd71-410d-c82d-eae5ea35c3b4",
        "colab": {
          "base_uri": "https://localhost:8080/",
          "height": 33
        }
      },
      "source": [
        "import numpy as np\n",
        "pp = np.asarray(pba)\n",
        "type(pp)"
      ],
      "execution_count": 13,
      "outputs": [
        {
          "output_type": "execute_result",
          "data": {
            "text/plain": [
              "numpy.ndarray"
            ]
          },
          "metadata": {
            "tags": []
          },
          "execution_count": 13
        }
      ]
    },
    {
      "cell_type": "code",
      "metadata": {
        "id": "oRKrX2ReHNt6",
        "colab_type": "code",
        "colab": {}
      },
      "source": [
        "po = pp.astype(int)"
      ],
      "execution_count": 0,
      "outputs": []
    },
    {
      "cell_type": "code",
      "metadata": {
        "id": "vKlWunHYHP_2",
        "colab_type": "code",
        "outputId": "32fcbc44-d53c-4454-cf7c-919a20c62f58",
        "colab": {
          "base_uri": "https://localhost:8080/",
          "height": 33
        }
      },
      "source": [
        "type(po)"
      ],
      "execution_count": 15,
      "outputs": [
        {
          "output_type": "execute_result",
          "data": {
            "text/plain": [
              "numpy.ndarray"
            ]
          },
          "metadata": {
            "tags": []
          },
          "execution_count": 15
        }
      ]
    },
    {
      "cell_type": "code",
      "metadata": {
        "id": "f_GyoPpX3A99",
        "colab_type": "code",
        "colab": {}
      },
      "source": [
        "from sklearn import metrics\n",
        "from sklearn.metrics import accuracy_score,f1_score\n",
        "def confusion_plot_desc(cm):\n",
        "    ax= plt.subplot()\n",
        "    sb.heatmap(cm, annot=True, ax = ax, cmap=\"Greens\"); #annot=True to annotate cells\n",
        "\n",
        "    # labels, title and ticks\n",
        "    ax.set_xlabel('Predicted labels');ax.set_ylabel('True labels') \n",
        "    ax.set_title('Confusion Matrix')\n",
        "    labels = ['Angry','Fear','Happy','Sad','Surprise','Neutral']\n",
        "    ax.xaxis.set_ticklabels(labels); ax.yaxis.set_ticklabels(labels)"
      ],
      "execution_count": 0,
      "outputs": []
    },
    {
      "cell_type": "code",
      "metadata": {
        "id": "sqoz1VMTHTOH",
        "colab_type": "code",
        "outputId": "08297058-27c6-40d3-91e5-7d3742b58c36",
        "colab": {
          "base_uri": "https://localhost:8080/",
          "height": 131
        }
      },
      "source": [
        "#multiply each by 10 in prob array and then convert it inro scalar and then you'll be able to plot the confusionn matrix.\n",
        "import numpy as np\n",
        "from sklearn.metrics import confusion_matrix\n",
        "\n",
        "y_true = np.array([0] * 546 + [1] * 528 + [2] * 879 + [3] * 594 + [4] * 416 + [5] * 626)\n",
        "y = [0,1,2,3,4,5]\n",
        "y_pred =  po.argmax(axis = 1)\n",
        "print(y_pred)\n",
        "#for i in range(0,len(y_pred)):\n",
        " # if(y_pred[i] > 0.5):\n",
        "  #   y_pred[i] = 1\n",
        "#print(y_pred)\n",
        "cm = confusion_matrix(y_true, y_pred)\n",
        "print(cm)"
      ],
      "execution_count": 39,
      "outputs": [
        {
          "output_type": "stream",
          "text": [
            "[0 0 1 ... 2 1 5]\n",
            "[[352  52  17  66   3  56]\n",
            " [ 89 268  16  83  27  45]\n",
            " [ 35  10 762  16  15  41]\n",
            " [ 91  45  23 313   6 116]\n",
            " [ 17  46  18   5 317  13]\n",
            " [ 50  25  21  87   2 441]]\n"
          ],
          "name": "stdout"
        }
      ]
    },
    {
      "cell_type": "code",
      "metadata": {
        "id": "gLB3p1sXKvUH",
        "colab_type": "code",
        "colab": {
          "base_uri": "https://localhost:8080/",
          "height": 33
        },
        "outputId": "bf1463a2-197e-4a8c-db6c-7fd39aa9b19c"
      },
      "source": [
        "type(cm)"
      ],
      "execution_count": 48,
      "outputs": [
        {
          "output_type": "execute_result",
          "data": {
            "text/plain": [
              "numpy.ndarray"
            ]
          },
          "metadata": {
            "tags": []
          },
          "execution_count": 48
        }
      ]
    },
    {
      "cell_type": "code",
      "metadata": {
        "id": "u7jdf-tmHZYm",
        "colab_type": "code",
        "colab": {}
      },
      "source": [
        "# Funtions to print confusion matrix\n",
        "from sklearn import metrics\n",
        "from sklearn.metrics import accuracy_score,f1_score\n",
        "import matplotlib.pyplot as plt\n",
        "import seaborn as sb\n",
        "import pandas as pd\n",
        "\n",
        "def confusion_plot_desc(cm):\n",
        "    labels = ['Angry','Fear','Happy','Sad','Surprise','Neutral']\n",
        "    df_cm = pd.DataFrame(cm,index=[i for i in labels],columns = [i for i in labels])\n",
        "    plt.figure(figsize=(10,10))\n",
        "    #sb.set(font_scale=1.5)\n",
        "    ax = plt.subplot()\n",
        "    sb.heatmap(df_cm, annot=True, ax=ax, annot_kws={\"size\" :16}, cmap=\"Greens\"); #annot=True to annotate cells\n",
        "    \n",
        "    # labels, title and ticks\n",
        "    ax.set_xlabel('Predicted labels');ax.set_ylabel('True labels') \n",
        "    ax.set_title('Confusion Matrix')\n",
        "    #ax.xaxis.set_ticklabels(labels); ax.yaxis.set_ticklabels(labels)\n",
        "   \n",
        "    \n",
        "# function to print Description report\n",
        "def print_Desc_report(y_true, y_pred):\n",
        "    print('Testing Accuracy Of Description: {}'.format(accuracy_score(y_true, y_pred)))\n",
        "    print('Testing F1 score Of Description: {}'.format(f1_score(y_true, y_pred, average='weighted')))\n",
        "    print(metrics.classification_report(y_true, y_pred))\n",
        "    cm = metrics.confusion_matrix(y_true, y_pred)\n",
        "    confusion_plot_desc(cm)\n",
        "    print()\n",
        "\n",
        "    \n"
      ],
      "execution_count": 0,
      "outputs": []
    },
    {
      "cell_type": "code",
      "metadata": {
        "id": "BHlW9tj_PYK-",
        "colab_type": "code",
        "outputId": "44bb4e76-6089-4c58-ec26-6934558206ff",
        "colab": {
          "base_uri": "https://localhost:8080/",
          "height": 905
        }
      },
      "source": [
        "print_Desc_report(y_true, y_pred)"
      ],
      "execution_count": 58,
      "outputs": [
        {
          "output_type": "stream",
          "text": [
            "Testing Accuracy Of Description: 0.6834772917247144\n",
            "Testing F1 score Of Description: 0.684209791731472\n",
            "              precision    recall  f1-score   support\n",
            "\n",
            "           0       0.56      0.64      0.60       546\n",
            "           1       0.60      0.51      0.55       528\n",
            "           2       0.89      0.87      0.88       879\n",
            "           3       0.55      0.53      0.54       594\n",
            "           4       0.86      0.76      0.81       416\n",
            "           5       0.62      0.70      0.66       626\n",
            "\n",
            "   micro avg       0.68      0.68      0.68      3589\n",
            "   macro avg       0.68      0.67      0.67      3589\n",
            "weighted avg       0.69      0.68      0.68      3589\n",
            "\n",
            "\n"
          ],
          "name": "stdout"
        },
        {
          "output_type": "display_data",
          "data": {
            "image/png": "[encoded data removed]",
            "text/plain": [
              "<Figure size 720x720 with 2 Axes>"
            ]
          },
          "metadata": {
            "tags": []
          }
        }
      ]
    },
    {
      "cell_type": "code",
      "metadata": {
        "id": "vTRoTCOgcE1U",
        "colab_type": "code",
        "colab": {}
      },
      "source": [
        "3"
      ],
      "execution_count": 0,
      "outputs": []
    }
  ]
}